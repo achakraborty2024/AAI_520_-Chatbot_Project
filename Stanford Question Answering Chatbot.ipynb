{
 "cells": [
  {
   "cell_type": "code",
   "execution_count": 1,
   "id": "6bd7111f",
   "metadata": {},
   "outputs": [],
   "source": [
    "import pandas as pd\n",
    "import numpy as np\n",
    "import torch\n",
    "import re\n",
    "import json\n",
    "import spacy\n",
    "import contractions"
   ]
  },
  {
   "cell_type": "markdown",
   "id": "0d75a90d",
   "metadata": {},
   "source": [
    "# 1: Load the Data"
   ]
  },
  {
   "cell_type": "code",
   "execution_count": 2,
   "id": "eeb82ebf",
   "metadata": {},
   "outputs": [],
   "source": [
    "# Load the JSON file into a Python dictionary\n",
    "with open('data/dev-v1.1.json') as f:\n",
    "    data_d = json.load(f)\n",
    "    \n",
    "with open('data/train-v1.1.json') as f:\n",
    "    data_t = json.load(f)\n",
    "\n",
    "# Extract the 'paragraphs' from 'data' in JSON\n",
    "paragraphs_d = data_d['data'][0]['paragraphs']\n",
    "paragraphs_t = data_t['data'][0]['paragraphs']\n",
    "\n",
    "# Normalize the JSON data to a DataFrame\n",
    "df_dev = pd.json_normalize(paragraphs_d, record_path=['qas'], meta=['context'])\n",
    "df_train = pd.json_normalize(paragraphs_t, record_path=['qas'], meta=['context'])"
   ]
  },
  {
   "cell_type": "markdown",
   "id": "ba846024",
   "metadata": {},
   "source": [
    "# 2: Exploratory Data Analysis "
   ]
  },
  {
   "cell_type": "markdown",
   "id": "e95808dc",
   "metadata": {},
   "source": [
    "## Check Basic Information:"
   ]
  },
  {
   "cell_type": "code",
   "execution_count": 3,
   "id": "1696b3a6",
   "metadata": {},
   "outputs": [
    {
     "name": "stdout",
     "output_type": "stream",
     "text": [
      "<class 'pandas.core.frame.DataFrame'>\n",
      "RangeIndex: 810 entries, 0 to 809\n",
      "Data columns (total 4 columns):\n",
      " #   Column    Non-Null Count  Dtype \n",
      "---  ------    --------------  ----- \n",
      " 0   answers   810 non-null    object\n",
      " 1   question  810 non-null    object\n",
      " 2   id        810 non-null    object\n",
      " 3   context   810 non-null    object\n",
      "dtypes: object(4)\n",
      "memory usage: 25.4+ KB\n",
      "None\n",
      "                                                  answers  \\\n",
      "count                                                 810   \n",
      "unique                                                571   \n",
      "top     [{'answer_start': 177, 'text': 'Denver Broncos...   \n",
      "freq                                                    7   \n",
      "\n",
      "                                        question                        id  \\\n",
      "count                                        810                       810   \n",
      "unique                                       800                       810   \n",
      "top     How old was Newton during Super Bowl 50?  56be4db0acb8001400a502ec   \n",
      "freq                                           2                         1   \n",
      "\n",
      "                                                  context  \n",
      "count                                                 810  \n",
      "unique                                                 54  \n",
      "top     Super Bowl 50 was an American football game to...  \n",
      "freq                                                   30  \n",
      "                                             answers  \\\n",
      "0  [{'answer_start': 177, 'text': 'Denver Broncos...   \n",
      "1  [{'answer_start': 249, 'text': 'Carolina Panth...   \n",
      "2  [{'answer_start': 403, 'text': 'Santa Clara, C...   \n",
      "3  [{'answer_start': 177, 'text': 'Denver Broncos...   \n",
      "4  [{'answer_start': 488, 'text': 'gold'}, {'answ...   \n",
      "\n",
      "                                            question  \\\n",
      "0  Which NFL team represented the AFC at Super Bo...   \n",
      "1  Which NFL team represented the NFC at Super Bo...   \n",
      "2                Where did Super Bowl 50 take place?   \n",
      "3                  Which NFL team won Super Bowl 50?   \n",
      "4  What color was used to emphasize the 50th anni...   \n",
      "\n",
      "                         id                                            context  \n",
      "0  56be4db0acb8001400a502ec  Super Bowl 50 was an American football game to...  \n",
      "1  56be4db0acb8001400a502ed  Super Bowl 50 was an American football game to...  \n",
      "2  56be4db0acb8001400a502ee  Super Bowl 50 was an American football game to...  \n",
      "3  56be4db0acb8001400a502ef  Super Bowl 50 was an American football game to...  \n",
      "4  56be4db0acb8001400a502f0  Super Bowl 50 was an American football game to...  \n"
     ]
    }
   ],
   "source": [
    "print(df_dev.info())\n",
    "print(df_dev.describe())\n",
    "print(df_dev.head())"
   ]
  },
  {
   "cell_type": "code",
   "execution_count": 4,
   "id": "2657473e",
   "metadata": {},
   "outputs": [
    {
     "name": "stdout",
     "output_type": "stream",
     "text": [
      "<class 'pandas.core.frame.DataFrame'>\n",
      "RangeIndex: 269 entries, 0 to 268\n",
      "Data columns (total 4 columns):\n",
      " #   Column    Non-Null Count  Dtype \n",
      "---  ------    --------------  ----- \n",
      " 0   answers   269 non-null    object\n",
      " 1   question  269 non-null    object\n",
      " 2   id        269 non-null    object\n",
      " 3   context   269 non-null    object\n",
      "dtypes: object(4)\n",
      "memory usage: 8.5+ KB\n",
      "None\n",
      "                                                  answers  \\\n",
      "count                                                 269   \n",
      "unique                                                268   \n",
      "top     [{'answer_start': 11, 'text': 'Father John Fra...   \n",
      "freq                                                    2   \n",
      "\n",
      "                                                 question  \\\n",
      "count                                                 269   \n",
      "unique                                                269   \n",
      "top     To whom did the Virgin Mary allegedly appear i...   \n",
      "freq                                                    1   \n",
      "\n",
      "                              id  \\\n",
      "count                        269   \n",
      "unique                       269   \n",
      "top     5733be284776f41900661182   \n",
      "freq                           1   \n",
      "\n",
      "                                                  context  \n",
      "count                                                 269  \n",
      "unique                                                 55  \n",
      "top     Architecturally, the school has a Catholic cha...  \n",
      "freq                                                    5  \n",
      "                                             answers  \\\n",
      "0  [{'answer_start': 515, 'text': 'Saint Bernadet...   \n",
      "1  [{'answer_start': 188, 'text': 'a copper statu...   \n",
      "2  [{'answer_start': 279, 'text': 'the Main Build...   \n",
      "3  [{'answer_start': 381, 'text': 'a Marian place...   \n",
      "4  [{'answer_start': 92, 'text': 'a golden statue...   \n",
      "\n",
      "                                            question  \\\n",
      "0  To whom did the Virgin Mary allegedly appear i...   \n",
      "1  What is in front of the Notre Dame Main Building?   \n",
      "2  The Basilica of the Sacred heart at Notre Dame...   \n",
      "3                  What is the Grotto at Notre Dame?   \n",
      "4  What sits on top of the Main Building at Notre...   \n",
      "\n",
      "                         id                                            context  \n",
      "0  5733be284776f41900661182  Architecturally, the school has a Catholic cha...  \n",
      "1  5733be284776f4190066117f  Architecturally, the school has a Catholic cha...  \n",
      "2  5733be284776f41900661180  Architecturally, the school has a Catholic cha...  \n",
      "3  5733be284776f41900661181  Architecturally, the school has a Catholic cha...  \n",
      "4  5733be284776f4190066117e  Architecturally, the school has a Catholic cha...  \n"
     ]
    }
   ],
   "source": [
    "print(df_train.info())\n",
    "print(df_train.describe())\n",
    "print(df_train.head())"
   ]
  },
  {
   "cell_type": "markdown",
   "id": "23ef3195",
   "metadata": {},
   "source": [
    "The DataFrames df_dev and df_train have columns such as question, context, answers, and id. \n",
    "For a generative chatbot, the key components are:\n",
    "\n",
    "1. context (the background information)\n",
    "2. question (the prompts or user queries)\n",
    "3. answers (responses that provide relevant data)"
   ]
  },
  {
   "cell_type": "markdown",
   "id": "afb27a2d",
   "metadata": {},
   "source": [
    "## Data Quality Checks:"
   ]
  },
  {
   "cell_type": "code",
   "execution_count": 5,
   "id": "374ac105",
   "metadata": {},
   "outputs": [
    {
     "name": "stdout",
     "output_type": "stream",
     "text": [
      "answers     0\n",
      "question    0\n",
      "id          0\n",
      "context     0\n",
      "dtype: int64\n",
      "answers     0\n",
      "question    0\n",
      "id          0\n",
      "context     0\n",
      "dtype: int64\n"
     ]
    }
   ],
   "source": [
    "# Check for missing values in columns like context, question, and answers\n",
    "\n",
    "print(df_dev.isnull().sum())\n",
    "print(df_train.isnull().sum())"
   ]
  },
  {
   "cell_type": "markdown",
   "id": "a0911da5",
   "metadata": {},
   "source": [
    "# 3: Data Cleaning and Preprocessing"
   ]
  },
  {
   "cell_type": "markdown",
   "id": "4f0dd4f3",
   "metadata": {},
   "source": [
    "## Remove Unnecessary Characters"
   ]
  },
  {
   "cell_type": "code",
   "execution_count": 6,
   "id": "b2710cba",
   "metadata": {},
   "outputs": [],
   "source": [
    "# Remove any unwanted characters or HTML tags that may be present in the context or questions\n",
    "\n",
    "def clean_text(text):\n",
    "    text = re.sub(r'\\s+', ' ', text)  # Remove extra whitespace\n",
    "    text = re.sub(r'[^a-zA-Z0-9\\s]', '', text)  # Remove special characters\n",
    "    return text\n",
    "\n",
    "df_dev['context'] = df_dev['context'].apply(clean_text)\n",
    "df_dev['question'] = df_dev['question'].apply(clean_text)\n",
    "\n",
    "df_train['context'] = df_dev['context'].apply(clean_text)\n",
    "df_train['question'] = df_dev['question'].apply(clean_text)"
   ]
  },
  {
   "cell_type": "markdown",
   "id": "f1e7992d",
   "metadata": {},
   "source": [
    "## Tokenization and Text Normalization"
   ]
  },
  {
   "cell_type": "code",
   "execution_count": 7,
   "id": "88bca941",
   "metadata": {},
   "outputs": [],
   "source": [
    "nlp = spacy.load('en_core_web_lg')\n",
    "\n",
    "# Remove Stopwords and Punctuation\n",
    "def remove_stopwords_punctuation(text):\n",
    "    doc = nlp(text)\n",
    "    tokens = [token.text for token in doc if not token.is_stop and not token.is_punct]\n",
    "    return ' '.join(tokens)\n",
    "\n",
    "df_dev['context'] = df_dev['context'].apply(remove_stopwords_punctuation)\n",
    "df_dev['question'] = df_dev['question'].apply(remove_stopwords_punctuation)\n",
    "\n",
    "df_train['context'] = df_train['context'].apply(remove_stopwords_punctuation)\n",
    "df_train['question'] = df_train['question'].apply(remove_stopwords_punctuation)\n",
    "\n",
    "\n",
    "# Expand common contractions (e.g., \"can't\" to \"cannot\") to make the language more explicit\n",
    "def expand_contractions(text):\n",
    "    return contractions.fix(text)\n",
    "\n",
    "df_dev['context'] = df_dev['context'].apply(expand_contractions)\n",
    "df_dev['question'] = df_dev['question'].apply(expand_contractions)\n",
    "\n",
    "df_train['context'] = df_train['context'].apply(expand_contractions)\n",
    "df_train['question'] = df_train['question'].apply(expand_contractions)\n",
    "\n",
    "\n",
    "# Tokenize the text into individual words and normalize it by converting everything to lowercase\n",
    "def tokenize_and_normalize(text):\n",
    "    doc = nlp(text)\n",
    "    tokens = [token.lemma_.lower() for token in doc if not token.is_stop and not token.is_punct]\n",
    "    return ' '.join(tokens)\n",
    "\n",
    "df_dev['context'] = df_dev['context'].apply(tokenize_and_normalize)\n",
    "df_dev['question'] = df_dev['question'].apply(tokenize_and_normalize)\n",
    "\n",
    "df_train['context'] = df_train['context'].apply(tokenize_and_normalize)\n",
    "df_train['question'] = df_train['question'].apply(tokenize_and_normalize)\n"
   ]
  },
  {
   "cell_type": "markdown",
   "id": "3270d840",
   "metadata": {},
   "source": [
    "## Handle Nested Answers"
   ]
  },
  {
   "cell_type": "code",
   "execution_count": 8,
   "id": "a7824b59",
   "metadata": {},
   "outputs": [],
   "source": [
    "# The answers column contains a list of dictionaries, so extract the text for easier processing\n",
    "\n",
    "df_dev['answer_text'] = df_dev['answers'].apply(lambda x: x[0]['text'] if len(x) > 0 else '')\n",
    "df_train['answer_text'] = df_train['answers'].apply(lambda x: x[0]['text'] if len(x) > 0 else '')\n"
   ]
  },
  {
   "cell_type": "markdown",
   "id": "d8f099cf",
   "metadata": {},
   "source": [
    "## Remove Empty Rows"
   ]
  },
  {
   "cell_type": "code",
   "execution_count": 9,
   "id": "bc0ff0e4",
   "metadata": {},
   "outputs": [],
   "source": [
    "# If any rows have empty context, question, or answer_text after cleaning, remove them\n",
    "\n",
    "df_dev = df_dev[df_dev['context'].str.strip() != '']\n",
    "df_dev = df_dev[df_dev['question'].str.strip() != '']\n",
    "df_dev = df_dev[df_dev['answer_text'].str.strip() != '']\n",
    "\n",
    "df_train = df_train[df_train['context'].str.strip() != '']\n",
    "df_train = df_train[df_train['question'].str.strip() != '']\n",
    "df_train = df_train[df_train['answer_text'].str.strip() != '']\n"
   ]
  },
  {
   "cell_type": "markdown",
   "id": "646803d8",
   "metadata": {},
   "source": [
    "# 4: Prepare Data for Model Training"
   ]
  },
  {
   "cell_type": "markdown",
   "id": "62ad96c2",
   "metadata": {},
   "source": [
    "## Combine Context and Question"
   ]
  },
  {
   "cell_type": "code",
   "execution_count": 10,
   "id": "1996fb98",
   "metadata": {},
   "outputs": [],
   "source": [
    "# To create a prompt-response pair, combine the context and question into a single prompt\n",
    "\n",
    "df_dev['input_text'] = df_dev['context'] + \" \" + df_dev['question']\n",
    "df_dev['target_text'] = df_dev['answer_text']\n",
    "\n",
    "df_train['input_text'] = df_train['context'] + \" \" + df_train['question']\n",
    "df_train['target_text'] = df_train['answer_text']\n"
   ]
  },
  {
   "cell_type": "code",
   "execution_count": null,
   "id": "d496893c",
   "metadata": {},
   "outputs": [],
   "source": []
  }
 ],
 "metadata": {
  "kernelspec": {
   "display_name": "Python 3 (ipykernel)",
   "language": "python",
   "name": "python3"
  },
  "language_info": {
   "codemirror_mode": {
    "name": "ipython",
    "version": 3
   },
   "file_extension": ".py",
   "mimetype": "text/x-python",
   "name": "python",
   "nbconvert_exporter": "python",
   "pygments_lexer": "ipython3",
   "version": "3.11.4"
  }
 },
 "nbformat": 4,
 "nbformat_minor": 5
}
